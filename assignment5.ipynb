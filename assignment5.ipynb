{
 "cells": [
  {
   "cell_type": "markdown",
   "id": "2b0ccadc-f479-4441-b193-3511497ab9e6",
   "metadata": {},
   "source": [
    "Q1, Create a vehicle class with an init method having instance variables as name_of_vehicle, max_speed\n",
    "and average_of_vehicle."
   ]
  },
  {
   "cell_type": "code",
   "execution_count": 5,
   "id": "fc92685e-bd20-456b-8a65-c9d89ecfef7a",
   "metadata": {},
   "outputs": [],
   "source": [
    "class vehicle:\n",
    "    def __init__(self,name_of_vehicle,max_vehicle,average_of_vehicle):\n",
    "        self.name_of_vehicle=name_of_vehicle\n",
    "        self.max_vehicle=max_vehicle\n",
    "        self.average_of_vehicle=average_of_vehicle\n",
    "    def return_value(self):\n",
    "        return self.name_of_vehicle,self.max_vehicle,self.average_of_vehicle"
   ]
  },
  {
   "cell_type": "code",
   "execution_count": 7,
   "id": "c6e6a5a2-c35d-42d3-857f-abe037583f2c",
   "metadata": {},
   "outputs": [],
   "source": [
    "shiv=vehicle(\"shivam\",45,3)"
   ]
  },
  {
   "cell_type": "code",
   "execution_count": 10,
   "id": "ea8afbf9-a7a8-4f0d-b449-c9fe193b0291",
   "metadata": {},
   "outputs": [
    {
     "data": {
      "text/plain": [
       "('shivam', 45, 3)"
      ]
     },
     "execution_count": 10,
     "metadata": {},
     "output_type": "execute_result"
    }
   ],
   "source": [
    "shiv.return_value()"
   ]
  },
  {
   "cell_type": "markdown",
   "id": "ada979b9-9a9a-4126-9f48-c0851fed646d",
   "metadata": {},
   "source": [
    "Q2. Create a child class car from the vehicle class created in Que 1, which will inherit the vehicle class.\n",
    "Create a method named seating_capacity which takes capacity as an argument and returns the name of\n",
    "the vehicle and its seating capacity."
   ]
  },
  {
   "cell_type": "code",
   "execution_count": 56,
   "id": "bb50bbd0-9219-413b-bf9f-bd0a143cd85e",
   "metadata": {},
   "outputs": [
    {
     "name": "stdout",
     "output_type": "stream",
     "text": [
      "Toyota\n",
      "Has a seating capacity of 5 passengers.\n"
     ]
    }
   ],
   "source": [
    "class Vehicle:\n",
    "    def __init__(self,name):\n",
    "        self.name=name\n",
    "    \n",
    "class Car(Vehicle):\n",
    "    def car_deyails(self):\n",
    "        return \"The car is:\"\n",
    "    \n",
    "    def seating_capacity(self, capacity):\n",
    "        return f\"Has a seating capacity of {capacity} passengers.\"\n",
    "\n",
    "my_car = Car(\"Toyota\")\n",
    "print(my_car.name)\n",
    "print(my_car.seating_capacity(5))\n"
   ]
  },
  {
   "cell_type": "markdown",
   "id": "f4ec7929-47cb-4094-bc53-fc2231dac162",
   "metadata": {},
   "source": [
    "Q3. What is multiple inheritance? Write a python code to demonstrate multiple inheritance."
   ]
  },
  {
   "cell_type": "markdown",
   "id": "05592ece-5af8-4692-b996-e407d3070d11",
   "metadata": {},
   "source": [
    "Ans:- Multiple inheritance is a concept in object-oriented programming where a class can inherit properties and behaviors from more than one parent class. This means a child class can inherit attributes and methods from multiple base classes, allowing for the combination of features from different sources into a single class."
   ]
  },
  {
   "cell_type": "code",
   "execution_count": 39,
   "id": "22e05373-e3bc-44e7-8ba1-ce9654cd8cdf",
   "metadata": {},
   "outputs": [
    {
     "name": "stdout",
     "output_type": "stream",
     "text": [
      "The animal name is xoxo\n",
      "That bird are fly\n"
     ]
    }
   ],
   "source": [
    "\n",
    "class Animal:\n",
    "    def dog(self):\n",
    "        return \"The animal name is xoxo\"\n",
    "        \n",
    "class Flyable:\n",
    "    def fly(self):\n",
    "        return \"That bird are fly\"\n",
    "    \n",
    "class Bird(Animal, Flyable):\n",
    "    pass     \n",
    "obj_animal=Bird()\n",
    "print(obj_animal.dog())\n",
    "print(obj_animal.fly())"
   ]
  },
  {
   "cell_type": "markdown",
   "id": "f05c26b1-aab2-4a0c-be01-f225a5c8f806",
   "metadata": {},
   "source": [
    "Q4. What are getter and setter in python? Create a class and create a getter and a setter method in this\n",
    "class."
   ]
  },
  {
   "cell_type": "markdown",
   "id": "22670831-7c89-431f-a416-f0dd5e3132e8",
   "metadata": {},
   "source": [
    "Ans:- In Python, getters and setters are methods used to access and modify the attributes (data members) of a class. They provide a level of encapsulation by controlling the access to the class attributes, allowing you to implement data validation and manipulation logic.\n",
    "\n",
    "Getter method: It is used to access the value of an attribute.\n",
    "\n",
    "Setter method: It is used to modify the value of an attribute."
   ]
  },
  {
   "cell_type": "code",
   "execution_count": 31,
   "id": "2f7afbc6-b36e-44cb-ab2c-3c5108f59433",
   "metadata": {},
   "outputs": [
    {
     "name": "stdin",
     "output_type": "stream",
     "text": [
      "Enter the number to set 4582\n"
     ]
    },
    {
     "name": "stdout",
     "output_type": "stream",
     "text": [
      "4582\n",
      "4582\n"
     ]
    }
   ],
   "source": [
    "\n",
    "class Geek:\n",
    "\tdef __init__(self, age = 0):\n",
    "\t\tself._age = age\n",
    "\t\n",
    "\tdef get_age(self):\n",
    "\t\treturn self._age\n",
    "\t\n",
    "\tdef set_age(self, x):\n",
    "\t\tself._age = x\n",
    "\n",
    "raj = Geek()\n",
    "raj.set_age(input(\"Enter the number to set\"))\n",
    "print(raj.get_age())\n",
    "print(raj._age)\n"
   ]
  },
  {
   "cell_type": "markdown",
   "id": "84877d2a-c028-49af-a648-65a125e5cee8",
   "metadata": {},
   "source": [
    "Q5.What is method overriding in python? Write a python code to demonstrate method overriding."
   ]
  },
  {
   "cell_type": "markdown",
   "id": "9d42ca67-edae-4268-9689-24f9eef155d0",
   "metadata": {},
   "source": [
    "Ans:-Method overriding in Python is a concept in object-oriented programming where a subclass provides a specific implementation for a method that is already defined in its superclass. When a method is overridden in the subclass, the method in the superclass is effectively replaced by the new implementation in the subclass."
   ]
  },
  {
   "cell_type": "code",
   "execution_count": 37,
   "id": "81aa1290-6d36-4fb4-974a-668cdf498610",
   "metadata": {},
   "outputs": [
    {
     "name": "stdout",
     "output_type": "stream",
     "text": [
      "Some generic sound\n",
      "Woof Woof\n"
     ]
    }
   ],
   "source": [
    "class Animal:\n",
    "    def make_sound(self):\n",
    "        return \"Some generic sound\"\n",
    "\n",
    "class Dog(Animal):\n",
    "    def make_sound(self):\n",
    "        return \"Woof Woof\"\n",
    "    \n",
    "animal = Animal()\n",
    "dog = Dog()\n",
    "print(animal.make_sound())\n",
    "print(dog.make_sound())\n"
   ]
  }
 ],
 "metadata": {
  "kernelspec": {
   "display_name": "Python 3 (ipykernel)",
   "language": "python",
   "name": "python3"
  },
  "language_info": {
   "codemirror_mode": {
    "name": "ipython",
    "version": 3
   },
   "file_extension": ".py",
   "mimetype": "text/x-python",
   "name": "python",
   "nbconvert_exporter": "python",
   "pygments_lexer": "ipython3",
   "version": "3.10.8"
  }
 },
 "nbformat": 4,
 "nbformat_minor": 5
}
